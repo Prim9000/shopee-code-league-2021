{
 "cells": [
  {
   "cell_type": "markdown",
   "metadata": {},
   "source": [
    "## TEXT ANALYTICS DEMO ON HOTEL REVIEWS DATASET"
   ]
  },
  {
   "cell_type": "markdown",
   "metadata": {},
   "source": [
    "### Load required libraries"
   ]
  },
  {
   "cell_type": "code",
   "execution_count": 56,
   "metadata": {},
   "outputs": [
    {
     "name": "stderr",
     "output_type": "stream",
     "text": [
      "[nltk_data] Downloading package punkt to C:\\Users\\SPARTA-\n",
      "[nltk_data]     USER\\AppData\\Roaming\\nltk_data...\n",
      "[nltk_data]   Package punkt is already up-to-date!\n",
      "[nltk_data] Downloading package wordnet to C:\\Users\\SPARTA-\n",
      "[nltk_data]     USER\\AppData\\Roaming\\nltk_data...\n",
      "[nltk_data]   Package wordnet is already up-to-date!\n",
      "[nltk_data] Downloading package averaged_perceptron_tagger to\n",
      "[nltk_data]     C:\\Users\\SPARTA-USER\\AppData\\Roaming\\nltk_data...\n",
      "[nltk_data]   Package averaged_perceptron_tagger is already up-to-\n",
      "[nltk_data]       date!\n"
     ]
    }
   ],
   "source": [
    "import pandas as pd\n",
    "import numpy as np\n",
    "\n",
    "# For sentiment analysis\n",
    "from vaderSentiment.vaderSentiment import SentimentIntensityAnalyzer\n",
    "\n",
    "# For text preprocessing\n",
    "import re\n",
    "import string\n",
    "from sklearn.feature_extraction.text import ENGLISH_STOP_WORDS\n",
    "from nltk.corpus import stopwords\n",
    "import nltk\n",
    "from nltk.stem import WordNetLemmatizer \n",
    "from nltk.corpus import wordnet\n",
    "from nltk.tokenize import word_tokenize\n",
    "nltk.download('punkt')\n",
    "nltk.download('wordnet')\n",
    "nltk.download('averaged_perceptron_tagger')\n",
    "\n",
    "# For topic modeling\n",
    "from sklearn.feature_extraction.text import TfidfVectorizer\n",
    "from sklearn.decomposition import LatentDirichletAllocation\n",
    "\n"
   ]
  },
  {
   "cell_type": "markdown",
   "metadata": {},
   "source": [
    "### Import hotel reviews dataset"
   ]
  },
  {
   "cell_type": "code",
   "execution_count": 3,
   "metadata": {},
   "outputs": [
    {
     "data": {
      "text/html": [
       "<div>\n",
       "<style scoped>\n",
       "    .dataframe tbody tr th:only-of-type {\n",
       "        vertical-align: middle;\n",
       "    }\n",
       "\n",
       "    .dataframe tbody tr th {\n",
       "        vertical-align: top;\n",
       "    }\n",
       "\n",
       "    .dataframe thead th {\n",
       "        text-align: right;\n",
       "    }\n",
       "</style>\n",
       "<table border=\"1\" class=\"dataframe\">\n",
       "  <thead>\n",
       "    <tr style=\"text-align: right;\">\n",
       "      <th></th>\n",
       "      <th>address</th>\n",
       "      <th>categories</th>\n",
       "      <th>city</th>\n",
       "      <th>country</th>\n",
       "      <th>latitude</th>\n",
       "      <th>longitude</th>\n",
       "      <th>name</th>\n",
       "      <th>postalCode</th>\n",
       "      <th>province</th>\n",
       "      <th>reviews.date</th>\n",
       "      <th>reviews.dateAdded</th>\n",
       "      <th>reviews.doRecommend</th>\n",
       "      <th>reviews.id</th>\n",
       "      <th>reviews.rating</th>\n",
       "      <th>reviews.text</th>\n",
       "      <th>reviews.title</th>\n",
       "      <th>reviews.userCity</th>\n",
       "      <th>reviews.username</th>\n",
       "      <th>reviews.userProvince</th>\n",
       "    </tr>\n",
       "  </thead>\n",
       "  <tbody>\n",
       "    <tr>\n",
       "      <th>0</th>\n",
       "      <td>95 Route 17k</td>\n",
       "      <td>Hotels</td>\n",
       "      <td>Newburgh</td>\n",
       "      <td>US</td>\n",
       "      <td>41.505388</td>\n",
       "      <td>-74.073291</td>\n",
       "      <td>Howard Johnson Inn - Newburgh</td>\n",
       "      <td>12550-5009</td>\n",
       "      <td>NY</td>\n",
       "      <td>2009-12-24T00:00:00Z</td>\n",
       "      <td>2017-04-17T01:54:07Z</td>\n",
       "      <td>NaN</td>\n",
       "      <td>NaN</td>\n",
       "      <td>3</td>\n",
       "      <td>The only thing wrong with the room was the sme...</td>\n",
       "      <td>OK Room</td>\n",
       "      <td>NaN</td>\n",
       "      <td>NaN</td>\n",
       "      <td>NaN</td>\n",
       "    </tr>\n",
       "    <tr>\n",
       "      <th>1</th>\n",
       "      <td>95 Route 17k</td>\n",
       "      <td>Hotels</td>\n",
       "      <td>Newburgh</td>\n",
       "      <td>US</td>\n",
       "      <td>41.505388</td>\n",
       "      <td>-74.073291</td>\n",
       "      <td>Howard Johnson Inn - Newburgh</td>\n",
       "      <td>12550-5009</td>\n",
       "      <td>NY</td>\n",
       "      <td>2010-06-12T00:00:00Z</td>\n",
       "      <td>2017-04-17T01:54:07Z</td>\n",
       "      <td>NaN</td>\n",
       "      <td>NaN</td>\n",
       "      <td>3</td>\n",
       "      <td>I simply needed a cost effective place to stay...</td>\n",
       "      <td>Decent for the Money</td>\n",
       "      <td>NaN</td>\n",
       "      <td>NaN</td>\n",
       "      <td>NaN</td>\n",
       "    </tr>\n",
       "    <tr>\n",
       "      <th>2</th>\n",
       "      <td>95 Route 17k</td>\n",
       "      <td>Hotels</td>\n",
       "      <td>Newburgh</td>\n",
       "      <td>US</td>\n",
       "      <td>41.505388</td>\n",
       "      <td>-74.073291</td>\n",
       "      <td>Howard Johnson Inn - Newburgh</td>\n",
       "      <td>12550-5009</td>\n",
       "      <td>NY</td>\n",
       "      <td>2012-10-11T00:00:00Z</td>\n",
       "      <td>2017-04-17T01:54:07Z</td>\n",
       "      <td>NaN</td>\n",
       "      <td>NaN</td>\n",
       "      <td>3</td>\n",
       "      <td>The location was great. However the rooms need...</td>\n",
       "      <td>Good Location</td>\n",
       "      <td>NaN</td>\n",
       "      <td>NaN</td>\n",
       "      <td>NaN</td>\n",
       "    </tr>\n",
       "    <tr>\n",
       "      <th>3</th>\n",
       "      <td>95 Route 17k</td>\n",
       "      <td>Hotels</td>\n",
       "      <td>Newburgh</td>\n",
       "      <td>US</td>\n",
       "      <td>41.505388</td>\n",
       "      <td>-74.073291</td>\n",
       "      <td>Howard Johnson Inn - Newburgh</td>\n",
       "      <td>12550-5009</td>\n",
       "      <td>NY</td>\n",
       "      <td>2009-09-30T00:00:00Z</td>\n",
       "      <td>2017-04-17T01:54:07Z</td>\n",
       "      <td>NaN</td>\n",
       "      <td>NaN</td>\n",
       "      <td>3</td>\n",
       "      <td>The hotel room was ok for the money I paid but...</td>\n",
       "      <td>OK room for the money</td>\n",
       "      <td>NaN</td>\n",
       "      <td>A verified traveler</td>\n",
       "      <td>NaN</td>\n",
       "    </tr>\n",
       "    <tr>\n",
       "      <th>4</th>\n",
       "      <td>95 Route 17k</td>\n",
       "      <td>Hotels</td>\n",
       "      <td>Newburgh</td>\n",
       "      <td>US</td>\n",
       "      <td>41.505388</td>\n",
       "      <td>-74.073291</td>\n",
       "      <td>Howard Johnson Inn - Newburgh</td>\n",
       "      <td>12550-5009</td>\n",
       "      <td>NY</td>\n",
       "      <td>2016-07-01T00:00:00Z</td>\n",
       "      <td>2017-04-17T01:54:07Z</td>\n",
       "      <td>NaN</td>\n",
       "      <td>NaN</td>\n",
       "      <td>3</td>\n",
       "      <td>It was good for the price, good service we jus...</td>\n",
       "      <td>good for  the price</td>\n",
       "      <td>NaN</td>\n",
       "      <td>Marjorie</td>\n",
       "      <td>NaN</td>\n",
       "    </tr>\n",
       "  </tbody>\n",
       "</table>\n",
       "</div>"
      ],
      "text/plain": [
       "        address categories      city country   latitude  longitude  \\\n",
       "0  95 Route 17k     Hotels  Newburgh      US  41.505388 -74.073291   \n",
       "1  95 Route 17k     Hotels  Newburgh      US  41.505388 -74.073291   \n",
       "2  95 Route 17k     Hotels  Newburgh      US  41.505388 -74.073291   \n",
       "3  95 Route 17k     Hotels  Newburgh      US  41.505388 -74.073291   \n",
       "4  95 Route 17k     Hotels  Newburgh      US  41.505388 -74.073291   \n",
       "\n",
       "                            name  postalCode province          reviews.date  \\\n",
       "0  Howard Johnson Inn - Newburgh  12550-5009       NY  2009-12-24T00:00:00Z   \n",
       "1  Howard Johnson Inn - Newburgh  12550-5009       NY  2010-06-12T00:00:00Z   \n",
       "2  Howard Johnson Inn - Newburgh  12550-5009       NY  2012-10-11T00:00:00Z   \n",
       "3  Howard Johnson Inn - Newburgh  12550-5009       NY  2009-09-30T00:00:00Z   \n",
       "4  Howard Johnson Inn - Newburgh  12550-5009       NY  2016-07-01T00:00:00Z   \n",
       "\n",
       "      reviews.dateAdded  reviews.doRecommend  reviews.id  reviews.rating  \\\n",
       "0  2017-04-17T01:54:07Z                  NaN         NaN               3   \n",
       "1  2017-04-17T01:54:07Z                  NaN         NaN               3   \n",
       "2  2017-04-17T01:54:07Z                  NaN         NaN               3   \n",
       "3  2017-04-17T01:54:07Z                  NaN         NaN               3   \n",
       "4  2017-04-17T01:54:07Z                  NaN         NaN               3   \n",
       "\n",
       "                                        reviews.text          reviews.title  \\\n",
       "0  The only thing wrong with the room was the sme...                OK Room   \n",
       "1  I simply needed a cost effective place to stay...   Decent for the Money   \n",
       "2  The location was great. However the rooms need...          Good Location   \n",
       "3  The hotel room was ok for the money I paid but...  OK room for the money   \n",
       "4  It was good for the price, good service we jus...    good for  the price   \n",
       "\n",
       "  reviews.userCity     reviews.username reviews.userProvince  \n",
       "0              NaN                  NaN                  NaN  \n",
       "1              NaN                  NaN                  NaN  \n",
       "2              NaN                  NaN                  NaN  \n",
       "3              NaN  A verified traveler                  NaN  \n",
       "4              NaN             Marjorie                  NaN  "
      ]
     },
     "execution_count": 3,
     "metadata": {},
     "output_type": "execute_result"
    }
   ],
   "source": [
    "reviews = pd.read_excel(\"C:/Users/SPARTA-USER/Documents/GitHub/shopee-code-league-2021/01_Data/hotel_reviews.xlsx\")\n",
    "reviews.head()"
   ]
  },
  {
   "cell_type": "markdown",
   "metadata": {},
   "source": [
    "### Sentiment Scoring"
   ]
  },
  {
   "cell_type": "markdown",
   "metadata": {},
   "source": [
    "Create a new column for the VADER scores."
   ]
  },
  {
   "cell_type": "code",
   "execution_count": 22,
   "metadata": {},
   "outputs": [
    {
     "data": {
      "text/html": [
       "<div>\n",
       "<style scoped>\n",
       "    .dataframe tbody tr th:only-of-type {\n",
       "        vertical-align: middle;\n",
       "    }\n",
       "\n",
       "    .dataframe tbody tr th {\n",
       "        vertical-align: top;\n",
       "    }\n",
       "\n",
       "    .dataframe thead th {\n",
       "        text-align: right;\n",
       "    }\n",
       "</style>\n",
       "<table border=\"1\" class=\"dataframe\">\n",
       "  <thead>\n",
       "    <tr style=\"text-align: right;\">\n",
       "      <th></th>\n",
       "      <th>reviews.text</th>\n",
       "      <th>VADER_raw</th>\n",
       "      <th>VADER_compound_score</th>\n",
       "    </tr>\n",
       "  </thead>\n",
       "  <tbody>\n",
       "    <tr>\n",
       "      <th>0</th>\n",
       "      <td>The only thing wrong with the room was the sme...</td>\n",
       "      <td>{'neg': 0.109, 'neu': 0.739, 'pos': 0.151, 'co...</td>\n",
       "      <td>0.0516</td>\n",
       "    </tr>\n",
       "    <tr>\n",
       "      <th>1</th>\n",
       "      <td>I simply needed a cost effective place to stay...</td>\n",
       "      <td>{'neg': 0.039, 'neu': 0.772, 'pos': 0.189, 'co...</td>\n",
       "      <td>0.8074</td>\n",
       "    </tr>\n",
       "    <tr>\n",
       "      <th>2</th>\n",
       "      <td>The location was great. However the rooms need...</td>\n",
       "      <td>{'neg': 0.098, 'neu': 0.606, 'pos': 0.295, 'co...</td>\n",
       "      <td>0.7351</td>\n",
       "    </tr>\n",
       "    <tr>\n",
       "      <th>3</th>\n",
       "      <td>The hotel room was ok for the money I paid but...</td>\n",
       "      <td>{'neg': 0.0, 'neu': 0.838, 'pos': 0.162, 'comp...</td>\n",
       "      <td>0.5927</td>\n",
       "    </tr>\n",
       "    <tr>\n",
       "      <th>4</th>\n",
       "      <td>It was good for the price, good service we jus...</td>\n",
       "      <td>{'neg': 0.0, 'neu': 0.686, 'pos': 0.314, 'comp...</td>\n",
       "      <td>0.8271</td>\n",
       "    </tr>\n",
       "  </tbody>\n",
       "</table>\n",
       "</div>"
      ],
      "text/plain": [
       "                                        reviews.text  \\\n",
       "0  The only thing wrong with the room was the sme...   \n",
       "1  I simply needed a cost effective place to stay...   \n",
       "2  The location was great. However the rooms need...   \n",
       "3  The hotel room was ok for the money I paid but...   \n",
       "4  It was good for the price, good service we jus...   \n",
       "\n",
       "                                           VADER_raw  VADER_compound_score  \n",
       "0  {'neg': 0.109, 'neu': 0.739, 'pos': 0.151, 'co...                0.0516  \n",
       "1  {'neg': 0.039, 'neu': 0.772, 'pos': 0.189, 'co...                0.8074  \n",
       "2  {'neg': 0.098, 'neu': 0.606, 'pos': 0.295, 'co...                0.7351  \n",
       "3  {'neg': 0.0, 'neu': 0.838, 'pos': 0.162, 'comp...                0.5927  \n",
       "4  {'neg': 0.0, 'neu': 0.686, 'pos': 0.314, 'comp...                0.8271  "
      ]
     },
     "execution_count": 22,
     "metadata": {},
     "output_type": "execute_result"
    }
   ],
   "source": [
    "analyser = SentimentIntensityAnalyzer()   # Function that generates the sentiment score of a text\n",
    "\n",
    "reviews[\"VADER_raw\"] = reviews[\"reviews.text\"].apply(lambda t: str(analyser.polarity_scores(t)))\n",
    "reviews[\"VADER_compound_score\"] = reviews[\"VADER_raw\"].apply(lambda s: float(s.split(\"compound': \")[1].replace(\"}\",\"\")))\n",
    "reviews[[\"reviews.text\",\"VADER_raw\",\"VADER_compound_score\"]].head()\n"
   ]
  },
  {
   "cell_type": "markdown",
   "metadata": {},
   "source": [
    "Check the overall average reviews sentiment score."
   ]
  },
  {
   "cell_type": "code",
   "execution_count": 25,
   "metadata": {},
   "outputs": [
    {
     "data": {
      "text/plain": [
       "0.17654579831932765"
      ]
     },
     "execution_count": 25,
     "metadata": {},
     "output_type": "execute_result"
    }
   ],
   "source": [
    "reviews[\"VADER_compound_score\"].mean()"
   ]
  },
  {
   "cell_type": "markdown",
   "metadata": {},
   "source": [
    "### Topic Modeling"
   ]
  },
  {
   "cell_type": "markdown",
   "metadata": {},
   "source": [
    "Perform text preprocessing.  "
   ]
  },
  {
   "cell_type": "code",
   "execution_count": 68,
   "metadata": {},
   "outputs": [
    {
     "data": {
      "text/plain": [
       "0     thing wrong room smell mustymoldy like room w...\n",
       "1     simply need cost effective place stay visit w...\n",
       "2     location great room need renovate desperately...\n",
       "3     hotel room ok money pay hallway walk room sme...\n",
       "4     good price good service use sleepand good cab...\n",
       "Name: text2, dtype: object"
      ]
     },
     "execution_count": 68,
     "metadata": {},
     "output_type": "execute_result"
    }
   ],
   "source": [
    "# Drop duplicates\n",
    "reviews.drop_duplicates(subset=\"reviews.text\",keep=\"first\",inplace=True)\n",
    "\n",
    "# Create new column for review text to be processed\n",
    "reviews[\"text2\"] = reviews[\"reviews.text\"]\n",
    "\n",
    "# Remove punctuations from text2\n",
    "reviews[\"text2\"] = reviews[\"text2\"].apply(lambda x: re.sub(r'\\[.*?\\]', '', x))\n",
    "reviews[\"text2\"] = reviews[\"text2\"].apply(lambda x: re.sub(r'[%s]' % re.escape(string.punctuation), '', x))\n",
    "\n",
    "# Remove numbers\n",
    "reviews.text2 = reviews.text2.str.replace('\\d+', '')\n",
    "\n",
    "# Remove double spacing\n",
    "reviews[\"text2\"] = reviews[\"text2\"].apply(lambda x: x.replace(\"  \",\" \"))\n",
    "\n",
    "# Remove leading and trailing spaces\n",
    "reviews[\"text2\"] = reviews[\"text2\"].apply(lambda c: c.strip())\n",
    "\n",
    "# Convert to lowercase\n",
    "reviews[\"text2\"] = reviews[\"text2\"].apply(lambda c: c.lower())\n",
    "\n",
    "# Lemmatize text\n",
    "#----- Create function to convert nltk tag to wordnet tag -----#\n",
    "def nltk_tag_to_wordnet_tag(nltk_tag):\n",
    "    if nltk_tag.startswith('J'):\n",
    "        return wordnet.ADJ\n",
    "    elif nltk_tag.startswith('V'):\n",
    "        return wordnet.VERB\n",
    "    elif nltk_tag.startswith('N'):\n",
    "        return wordnet.NOUN\n",
    "    elif nltk_tag.startswith('R'):\n",
    "        return wordnet.ADV\n",
    "    else:          \n",
    "        return None\n",
    "\n",
    "#----- Create function that will lemmatize a sentence -----#\n",
    "def lemmatize_sentence(sentence):\n",
    "    #tokenize the sentence and find the POS tag for each token\n",
    "    nltk_tagged = nltk.pos_tag(nltk.word_tokenize(sentence))  \n",
    "    #tuple of (token, wordnet_tag)\n",
    "    wordnet_tagged = map(lambda x: (x[0], nltk_tag_to_wordnet_tag(x[1])), nltk_tagged)\n",
    "    lemmatized_sentence = []\n",
    "    for word, tag in wordnet_tagged:\n",
    "        if tag is None:\n",
    "            #if there is no available tag, append the token as is\n",
    "            lemmatized_sentence.append(word)\n",
    "        else:        \n",
    "            #else use the tag to lemmatize the token\n",
    "            lemmatized_sentence.append(lemmatizer.lemmatize(word, tag))\n",
    "    return \" \".join(lemmatized_sentence)\n",
    "\n",
    "lemmatizer = WordNetLemmatizer()\n",
    "reviews[\"text2\"] =  reviews.apply(lambda x: lemmatize_sentence(x[\"text2\"]), axis=1)  \n",
    "\n",
    "# Remove stopwords\n",
    "stopwords_list = set(list(stopwords.words('english')) + list(ENGLISH_STOP_WORDS))\n",
    "\n",
    "def remove_stopwords (text):\n",
    "    raw_tokenized = text.lower().split()\n",
    "    \n",
    "    clean_text = \"\"\n",
    "    for w in raw_tokenized:\n",
    "        if w not in stopwords_list:\n",
    "            clean_text = clean_text + \" \" + w\n",
    "        else:\n",
    "            clean_text = clean_text\n",
    "    return clean_text\n",
    "\n",
    "reviews[\"text2\"] = reviews[\"text2\"].apply(lambda w: remove_stopwords(w))\n",
    "\n",
    "# Remove -PRON-\n",
    "reviews[\"text2\"] = reviews[\"text2\"].str.replace('-pron-', '')  \n",
    "reviews[\"text2\"] = reviews[\"text2\"].str.replace('-PRON-', '')\n",
    "\n",
    "# View cleansed text column\n",
    "reviews[\"text2\"].head()"
   ]
  },
  {
   "cell_type": "markdown",
   "metadata": {},
   "source": [
    "Create a document-term matrix representation of the reviews."
   ]
  },
  {
   "cell_type": "code",
   "execution_count": 69,
   "metadata": {},
   "outputs": [],
   "source": [
    "vectorizer = TfidfVectorizer(analyzer='word', min_df=10, stop_words='english', lowercase=True, token_pattern='[a-zA-Z0-9]{3,}')\n",
    "data_vectorized = vectorizer.fit_transform(reviews[\"text2\"])"
   ]
  },
  {
   "cell_type": "markdown",
   "metadata": {},
   "source": [
    "Build LDA model with sklearn."
   ]
  },
  {
   "cell_type": "code",
   "execution_count": 78,
   "metadata": {},
   "outputs": [],
   "source": [
    "lda_model = LatentDirichletAllocation(n_components=4)\n",
    "lda_output = lda_model.fit_transform(data_vectorized)"
   ]
  },
  {
   "cell_type": "markdown",
   "metadata": {},
   "source": [
    "Create a document-topic dataframe.  Get the dominant topic per review record."
   ]
  },
  {
   "cell_type": "code",
   "execution_count": 79,
   "metadata": {},
   "outputs": [
    {
     "data": {
      "text/html": [
       "<div>\n",
       "<style scoped>\n",
       "    .dataframe tbody tr th:only-of-type {\n",
       "        vertical-align: middle;\n",
       "    }\n",
       "\n",
       "    .dataframe tbody tr th {\n",
       "        vertical-align: top;\n",
       "    }\n",
       "\n",
       "    .dataframe thead th {\n",
       "        text-align: right;\n",
       "    }\n",
       "</style>\n",
       "<table border=\"1\" class=\"dataframe\">\n",
       "  <thead>\n",
       "    <tr style=\"text-align: right;\">\n",
       "      <th></th>\n",
       "      <th>Topic0</th>\n",
       "      <th>Topic1</th>\n",
       "      <th>Topic2</th>\n",
       "      <th>Topic3</th>\n",
       "      <th>Dominant_Topic_Wt</th>\n",
       "      <th>Dominant_Topic</th>\n",
       "    </tr>\n",
       "  </thead>\n",
       "  <tbody>\n",
       "    <tr>\n",
       "      <th>0</th>\n",
       "      <td>0.0746</td>\n",
       "      <td>0.7645</td>\n",
       "      <td>0.0771</td>\n",
       "      <td>0.0839</td>\n",
       "      <td>0.7645</td>\n",
       "      <td>1</td>\n",
       "    </tr>\n",
       "    <tr>\n",
       "      <th>1</th>\n",
       "      <td>0.2803</td>\n",
       "      <td>0.6104</td>\n",
       "      <td>0.0549</td>\n",
       "      <td>0.0544</td>\n",
       "      <td>0.6104</td>\n",
       "      <td>1</td>\n",
       "    </tr>\n",
       "    <tr>\n",
       "      <th>2</th>\n",
       "      <td>0.0874</td>\n",
       "      <td>0.0925</td>\n",
       "      <td>0.0874</td>\n",
       "      <td>0.7326</td>\n",
       "      <td>0.7326</td>\n",
       "      <td>3</td>\n",
       "    </tr>\n",
       "    <tr>\n",
       "      <th>3</th>\n",
       "      <td>0.0622</td>\n",
       "      <td>0.0650</td>\n",
       "      <td>0.8104</td>\n",
       "      <td>0.0624</td>\n",
       "      <td>0.8104</td>\n",
       "      <td>2</td>\n",
       "    </tr>\n",
       "    <tr>\n",
       "      <th>4</th>\n",
       "      <td>0.0905</td>\n",
       "      <td>0.0916</td>\n",
       "      <td>0.0897</td>\n",
       "      <td>0.7282</td>\n",
       "      <td>0.7282</td>\n",
       "      <td>3</td>\n",
       "    </tr>\n",
       "  </tbody>\n",
       "</table>\n",
       "</div>"
      ],
      "text/plain": [
       "   Topic0  Topic1  Topic2  Topic3  Dominant_Topic_Wt  Dominant_Topic\n",
       "0  0.0746  0.7645  0.0771  0.0839             0.7645               1\n",
       "1  0.2803  0.6104  0.0549  0.0544             0.6104               1\n",
       "2  0.0874  0.0925  0.0874  0.7326             0.7326               3\n",
       "3  0.0622  0.0650  0.8104  0.0624             0.8104               2\n",
       "4  0.0905  0.0916  0.0897  0.7282             0.7282               3"
      ]
     },
     "execution_count": 79,
     "metadata": {},
     "output_type": "execute_result"
    }
   ],
   "source": [
    "# Make the pandas dataframe\n",
    "topicnames = [\"Topic\" + str(i) for i in range(lda_model.n_components)]\n",
    "df_review_topic = pd.DataFrame(np.round(lda_output, 4), columns=topicnames)\n",
    "\n",
    "# Get dominant topic for each review\n",
    "df_review_topic[\"Dominant_Topic_Wt\"] = df_review_topic.max(axis=1)\n",
    "dominant_topic = np.argmax(df_review_topic.values, axis=1)\n",
    "df_review_topic[\"Dominant_Topic\"] = dominant_topic\n",
    "df_review_topic.head()"
   ]
  },
  {
   "cell_type": "markdown",
   "metadata": {},
   "source": [
    "To enable labeling of the topics generated, print the top words per topic.  Likewise, print the top reviews per topic."
   ]
  },
  {
   "cell_type": "code",
   "execution_count": 80,
   "metadata": {},
   "outputs": [
    {
     "name": "stdout",
     "output_type": "stream",
     "text": [
      "Topics found via LDA:\n",
      "\n",
      "Topic #0:\n",
      "dirty chambre room hotel stay carpet convenient overnight tub little\n",
      "\n",
      "Topic #1:\n",
      "room hotel clean stay breakfast comfortable need right fine night\n",
      "\n",
      "Topic #2:\n",
      "room helpful stay pour door pay hotel nous nice staff\n",
      "\n",
      "Topic #3:\n",
      "good room hotel price clean bed stay great place breakfast\n"
     ]
    }
   ],
   "source": [
    "# Create a function that will print the top words per topic\n",
    "def print_topics(model, count_vectorizer, n_top_words):\n",
    "    words = count_vectorizer.get_feature_names()\n",
    "    for topic_idx, topic in enumerate(model.components_):\n",
    "        print(\"\\nTopic #%d:\" % topic_idx)\n",
    "        print(\" \".join([words[i]\n",
    "             for i in topic.argsort()[:-n_top_words - 1:-1]]))\n",
    "\n",
    "# Show top 10 words per topic\n",
    "print(\"Topics found via LDA:\")\n",
    "print_topics(lda_model, vectorizer, 10)         "
   ]
  },
  {
   "cell_type": "code",
   "execution_count": 81,
   "metadata": {},
   "outputs": [
    {
     "name": "stdout",
     "output_type": "stream",
     "text": [
      "     Dominant_Topic                                       reviews.text\n",
      "0                 0  Hotel needed updating - very old. The toilet w...\n",
      "1                 0  The hotel was not horrible for the price. The ...\n",
      "2                 0  The staff are very nice and the location was c...\n",
      "3                 0  It was terrible that i left next day even when...\n",
      "4                 0          Pour le prix c'est correct mais sans plus\n",
      "5                 0  Stayed two seperate nights, Sunday and Friday,...\n",
      "6                 0  The hotel was getting work done on the plumbin...\n",
      "7                 0  Didn't know if I was gonna like it cuz the out...\n",
      "8                 0  This motel served it's purpose for my visit.  ...\n",
      "9                 0  Not so great. My band mates and I drove 20 hou...\n",
      "124               1  A quick overnight at this location was pretty ...\n",
      "125               1  Nice staff but Old facilities.  Obviously a sm...\n",
      "126               1  NO HEAT IN 1ST ROOM LITTLE HEAT IN 2ND MOLD IN...\n",
      "127               1  Wouldn't recommend to stay @this hotel,not cle...\n",
      "128               1  I found the Howard Johnson to be located in a ...\n",
      "129               1  It was so nasty and full of mold. Receptionist...\n",
      "130               1  Did the job. I slept well enough & ate a good ...\n",
      "131               1  Clean and convenient for the central Hudson Va...\n",
      "132               1  An excellent motel for the price. Room was lar...\n",
      "133               1  The rooms were clean, however it was not one o...\n",
      "285               2  My daughter-in-law and I spent one night in a ...\n",
      "286               2  there is no reason why the entrances to the bu...\n",
      "287               2  There was no hot water in our room and we had ...\n",
      "288               2  No towels. No hot water not enough pillows. Ic...\n",
      "289               2  Nous avons ï¿½ï¿½tï¿½ï¿½ dï¿½ï¿½ï¿½ï¿½u cette ...\n",
      "290               2         Room was not very clean..needed vacuuming.\n",
      "291               2  Basic, older accommodations. Liked the two sin...\n",
      "292               2  Staff was friendly. Check in was smooth. Conti...\n",
      "293               2  fair, but they woke us up at 5:27 and we did n...\n",
      "294               2  Room is ok for an overnight stay, but for anyt...\n",
      "417               3  staff was friendly, one day our room was not c...\n",
      "418               3  The hotel itself was dirty and smelled like ca...\n",
      "419               3  TV's are quite old and kind of unbearable to w...\n",
      "420               3  Bathrooms were clean. Bed blankets need more f...\n",
      "421               3                           great room for the money\n",
      "422               3  The hotel is located in a very good centralize...\n",
      "423               3  We went to the Army game at West Point.  Go Ar...\n",
      "424               3  I informed mgmnt of a backup of the 2 sinks in...\n",
      "425               3  We come here yearly for several years now for ...\n",
      "426               3  It's an older place. People were pleasant and ...\n"
     ]
    }
   ],
   "source": [
    "# Show the top reviews per topic\n",
    "sub_reviews = reviews[[\"reviews.text\"]]\n",
    "df_review_topic = pd.merge(left=df_review_topic,right=sub_reviews,left_index=True,right_index=True)\n",
    "df_review_topic2 = df_review_topic.groupby([\"Dominant_Topic\"]).apply(lambda x: x.sort_values([\"Dominant_Topic_Wt\"], ascending = False)).reset_index(drop=True)\n",
    "top_10_mentions_x_topic = df_review_topic2.groupby(\"Dominant_Topic\").head(10)[[\"Dominant_Topic\",\"reviews.text\"]]\n",
    "top_10_mentions_x_topic.to_excel(\"C:/Users/SPARTA-USER/Documents/GitHub/shopee-code-league-2021/03_Output/Top10_Reviews_x_Topic.xlsx\")\n",
    "print(top_10_mentions_x_topic)"
   ]
  }
 ],
 "metadata": {
  "kernelspec": {
   "display_name": "Python 3",
   "language": "python",
   "name": "python3"
  },
  "language_info": {
   "codemirror_mode": {
    "name": "ipython",
    "version": 3
   },
   "file_extension": ".py",
   "mimetype": "text/x-python",
   "name": "python",
   "nbconvert_exporter": "python",
   "pygments_lexer": "ipython3",
   "version": "3.8.5"
  }
 },
 "nbformat": 4,
 "nbformat_minor": 4
}
